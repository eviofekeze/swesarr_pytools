{
 "cells": [
  {
   "cell_type": "markdown",
   "id": "8a6ce4e4f5a01a81",
   "metadata": {},
   "source": [
    "## **Downloading Radiometer Data**\n",
    "\n",
    "### **Retrieving Metadata**\n",
    "\n",
    "To download radiometer data from NSIDC, you will need an earthdata account, your earthdata username and password will be used to create a special .netrc file in your home directory assuming you do not already have them stored in a preexisting .netrc (Note you only need to do this once for your computer). This will only be required the first time the `AccessRadiometer` class is instantiated. Kindly follow the instruction on the prompt to complete `.netrc` creation. This file stores your username and password, which will be automatically used during the download process. If you encounter an HTTP 401 error while using the `AccessRadiometer, it likely means this file is missing or incorrectly set up. The dot (.) at the beginning of the file name ensures it remains hidden in your file explorer. For more information on .netrc files, click [here](https://www.gnu.org/software/inetutils/manual/html_node/The-_002enetrc-file.html) .\n",
    "\n",
    "This notebook will check if the file already exists on your system and create one if it's missing."
   ]
  },
  {
   "cell_type": "code",
   "execution_count": 3,
   "id": "76ef3e136adcbb49",
   "metadata": {
    "jupyter": {
     "is_executing": true
    }
   },
   "outputs": [],
   "source": [
    "import sys\n",
    "import pprint\n",
    "sys.path.append(\"../\")\n",
    "\n",
    "# import the Access Swesarr Class from the access_swesarr submodule\n",
    "from swesarr_pytools.access_swesarr import AccessRadiometer\n",
    "\n",
    "# Optional import for data\n",
    "from datetime import date"
   ]
  },
  {
   "cell_type": "code",
   "execution_count": 4,
   "id": "e704ff89",
   "metadata": {},
   "outputs": [],
   "source": [
    "# First let us instantiate the class\n",
    "radiom = AccessRadiometer()"
   ]
  },
  {
   "cell_type": "markdown",
   "id": "7adb4fd9",
   "metadata": {},
   "source": [
    "Let us view some available radiometer data"
   ]
  },
  {
   "cell_type": "code",
   "execution_count": 5,
   "id": "5f4698e2",
   "metadata": {},
   "outputs": [
    {
     "name": "stdout",
     "output_type": "stream",
     "text": [
      "{'2020.02.10': ['SNEX20_SWESARR_TB_GRMST1_27601_20006_000_200210_XKKa225H_v01.csv'],\n",
      " '2020.02.11': ['SNEX20_SWESARR_TB_GRMCT2_13801_20007_000_200211_XKKa225H_v01.csv',\n",
      "                'SNEX20_SWESARR_TB_GRMST1_27403_20007_000_200211_XKKa225H_v01.csv',\n",
      "                'SNEX20_SWESARR_TB_GRMNT1_09602_20007_000_200211_XKKa225H_v01.csv',\n",
      "                'SNEX20_SWESARR_TB_GRMCT2_13802_20007_000_200211_XKKa225H_v01.csv',\n",
      "                'SNEX20_SWESARR_TB_GRMCT2_31902_20007_000_200211_XKKa225H_v01.csv',\n",
      "                'SNEX20_SWESARR_TB_GRMST1_27501_20007_000_200211_XKKa225H_v01.csv',\n",
      "                'SNEX20_SWESARR_TB_GRMST1_27502_20007_000_200211_XKKa225H_v01.csv',\n",
      "                'SNEX20_SWESARR_TB_GRMCT2_13803_20007_000_200211_XKKa225H_v01.csv',\n",
      "                'SNEX20_SWESARR_TB_GRMNT1_09503_20007_000_200211_XKKa225H_v01.csv',\n",
      "                'SNEX20_SWESARR_TB_GRMCT2_31901_20007_000_200211_XKKa225H_v01.csv',\n",
      "                'SNEX20_SWESARR_TB_GRMNT1_09501_20007_000_200211_XKKa225H_v01.csv',\n",
      "                'SNEX20_SWESARR_TB_GRMCT2_31803_20007_000_200211_XKKa225H_v01.csv'],\n",
      " '2020.02.12': ['SNEX20_SWESARR_TB_GRMCT2_31903_20008_000_200212_XKKa225H_v01.csv',\n",
      "                'SNEX20_SWESARR_TB_GRMST1_27503_20008_000_200212_XKKa225H_v01.csv',\n",
      "                'SNEX20_SWESARR_TB_GRMCT2_31901_20009_000_200212_XKKa225H_v01.csv',\n",
      "                'SNEX20_SWESARR_TB_GRMCT2_31901_20008_000_200212_XKKa225H_v01.csv',\n",
      "                'SNEX20_SWESARR_TB_GRMCT2_13802_20009_000_200212_XKKa225H_v01.csv',\n",
      "                'SNEX20_SWESARR_TB_GRMCT2_31902_20009_000_200212_XKKa225H_v01.csv',\n",
      "                'SNEX20_SWESARR_TB_GRMNT1_09502_20008_000_200212_XKKa225H_v01.csv',\n",
      "                'SNEX20_SWESARR_TB_GRMST1_27502_20008_000_200212_XKKa225H_v01.csv',\n",
      "                'SNEX20_SWESARR_TB_GRMNT1_09503_20008_000_200212_XKKa225H_v01.csv',\n",
      "                'SNEX20_SWESARR_TB_GRMCT2_13903_20008_000_200212_XKKa225H_v01.csv',\n",
      "                'SNEX20_SWESARR_TB_GRMCT2_31902_20008_000_200212_XKKa225H_v01.csv',\n",
      "                'SNEX20_SWESARR_TB_GRMST1_27401_20008_000_200212_XKKa225H_v01.csv',\n",
      "                'SNEX20_SWESARR_TB_GRMCT2_13902_20008_000_200212_XKKa225H_v01.csv',\n",
      "                'SNEX20_SWESARR_TB_GRMNT1_09601_20008_000_200212_XKKa225H_v01.csv',\n",
      "                'SNEX20_SWESARR_TB_GRMCT2_13901_20008_000_200212_XKKa225H_v01.csv',\n",
      "                'SNEX20_SWESARR_TB_GRMCT2_13801_20009_000_200212_XKKa225H_v01.csv']}\n"
     ]
    }
   ],
   "source": [
    "radiom_meta = radiom.radiometer_meta\n",
    "pprint.pprint(radiom_meta)"
   ]
  },
  {
   "cell_type": "markdown",
   "id": "d2c94bdd",
   "metadata": {},
   "source": [
    "**Downloading data**\n",
    "\n",
    "We can download any of these flight lines seen in the meta, or all flight path from a specific day, or the entire three day period.\n",
    "\n",
    "In this example we will use the same instance of the radiometer class we instantiated earlier"
   ]
  },
  {
   "cell_type": "code",
   "execution_count": 6,
   "id": "6bf257cc",
   "metadata": {},
   "outputs": [
    {
     "name": "stderr",
     "output_type": "stream",
     "text": [
      "ACCESS_SWESARR - 2024-10-07 21:10:35,913 - INFO - Downloaded: SNEX20_SWESARR_TB_GRMCT2_31901_20007_000_200211_XKKa225H_v01.csv\n"
     ]
    }
   ],
   "source": [
    "# Specify any flight line\n",
    "example_radiom = \"SNEX20_SWESARR_TB_GRMCT2_31901_20007_000_200211_XKKa225H_v01.csv\"\n",
    "\n",
    "#Specify a destination folder on you computer \n",
    "destination_on_computer = \"../resources/radiometer\"\n",
    "\n",
    "radiom.download_radiometer(file_name=example_radiom, destination_folder=destination_on_computer)"
   ]
  },
  {
   "cell_type": "markdown",
   "id": "2b6efe5d",
   "metadata": {},
   "source": [
    "In this example we will use the same instance of the radiometer class we instantiated earlier to download to the entire data set."
   ]
  },
  {
   "cell_type": "code",
   "execution_count": 7,
   "id": "3dd19d38",
   "metadata": {},
   "outputs": [
    {
     "name": "stderr",
     "output_type": "stream",
     "text": [
      "ACCESS_SWESARR - 2024-10-07 21:10:38,340 - INFO - Downloaded: SNEX20_SWESARR_TB_GRMST1_27601_20006_000_200210_XKKa225H_v01.csv\n",
      "ACCESS_SWESARR - 2024-10-07 21:10:40,698 - INFO - Downloaded: SNEX20_SWESARR_TB_GRMCT2_13801_20007_000_200211_XKKa225H_v01.csv\n",
      "ACCESS_SWESARR - 2024-10-07 21:10:43,077 - INFO - Downloaded: SNEX20_SWESARR_TB_GRMST1_27403_20007_000_200211_XKKa225H_v01.csv\n",
      "ACCESS_SWESARR - 2024-10-07 21:10:45,363 - INFO - Downloaded: SNEX20_SWESARR_TB_GRMNT1_09602_20007_000_200211_XKKa225H_v01.csv\n",
      "ACCESS_SWESARR - 2024-10-07 21:10:49,293 - INFO - Downloaded: SNEX20_SWESARR_TB_GRMCT2_13802_20007_000_200211_XKKa225H_v01.csv\n",
      "ACCESS_SWESARR - 2024-10-07 21:10:51,560 - INFO - Downloaded: SNEX20_SWESARR_TB_GRMCT2_31902_20007_000_200211_XKKa225H_v01.csv\n",
      "ACCESS_SWESARR - 2024-10-07 21:10:53,798 - INFO - Downloaded: SNEX20_SWESARR_TB_GRMST1_27501_20007_000_200211_XKKa225H_v01.csv\n",
      "ACCESS_SWESARR - 2024-10-07 21:10:56,114 - INFO - Downloaded: SNEX20_SWESARR_TB_GRMST1_27502_20007_000_200211_XKKa225H_v01.csv\n",
      "ACCESS_SWESARR - 2024-10-07 21:10:58,238 - INFO - Downloaded: SNEX20_SWESARR_TB_GRMCT2_13803_20007_000_200211_XKKa225H_v01.csv\n",
      "ACCESS_SWESARR - 2024-10-07 21:11:00,911 - INFO - Downloaded: SNEX20_SWESARR_TB_GRMNT1_09503_20007_000_200211_XKKa225H_v01.csv\n",
      "ACCESS_SWESARR - 2024-10-07 21:11:03,951 - INFO - Downloaded: SNEX20_SWESARR_TB_GRMCT2_31901_20007_000_200211_XKKa225H_v01.csv\n",
      "ACCESS_SWESARR - 2024-10-07 21:11:06,489 - INFO - Downloaded: SNEX20_SWESARR_TB_GRMNT1_09501_20007_000_200211_XKKa225H_v01.csv\n",
      "ACCESS_SWESARR - 2024-10-07 21:11:08,812 - INFO - Downloaded: SNEX20_SWESARR_TB_GRMCT2_31803_20007_000_200211_XKKa225H_v01.csv\n",
      "ACCESS_SWESARR - 2024-10-07 21:11:12,310 - INFO - Downloaded: SNEX20_SWESARR_TB_GRMCT2_31903_20008_000_200212_XKKa225H_v01.csv\n",
      "ACCESS_SWESARR - 2024-10-07 21:11:15,639 - INFO - Downloaded: SNEX20_SWESARR_TB_GRMST1_27503_20008_000_200212_XKKa225H_v01.csv\n",
      "ACCESS_SWESARR - 2024-10-07 21:11:18,128 - INFO - Downloaded: SNEX20_SWESARR_TB_GRMCT2_31901_20009_000_200212_XKKa225H_v01.csv\n",
      "ACCESS_SWESARR - 2024-10-07 21:11:20,573 - INFO - Downloaded: SNEX20_SWESARR_TB_GRMCT2_31901_20008_000_200212_XKKa225H_v01.csv\n",
      "ACCESS_SWESARR - 2024-10-07 21:11:24,033 - INFO - Downloaded: SNEX20_SWESARR_TB_GRMCT2_13802_20009_000_200212_XKKa225H_v01.csv\n",
      "ACCESS_SWESARR - 2024-10-07 21:11:26,677 - INFO - Downloaded: SNEX20_SWESARR_TB_GRMCT2_31902_20009_000_200212_XKKa225H_v01.csv\n",
      "ACCESS_SWESARR - 2024-10-07 21:11:29,361 - INFO - Downloaded: SNEX20_SWESARR_TB_GRMNT1_09502_20008_000_200212_XKKa225H_v01.csv\n",
      "ACCESS_SWESARR - 2024-10-07 21:11:31,705 - INFO - Downloaded: SNEX20_SWESARR_TB_GRMST1_27502_20008_000_200212_XKKa225H_v01.csv\n",
      "ACCESS_SWESARR - 2024-10-07 21:11:33,929 - INFO - Downloaded: SNEX20_SWESARR_TB_GRMNT1_09503_20008_000_200212_XKKa225H_v01.csv\n",
      "ACCESS_SWESARR - 2024-10-07 21:11:36,709 - INFO - Downloaded: SNEX20_SWESARR_TB_GRMCT2_13903_20008_000_200212_XKKa225H_v01.csv\n",
      "ACCESS_SWESARR - 2024-10-07 21:11:39,107 - INFO - Downloaded: SNEX20_SWESARR_TB_GRMCT2_31902_20008_000_200212_XKKa225H_v01.csv\n",
      "ACCESS_SWESARR - 2024-10-07 21:11:41,986 - INFO - Downloaded: SNEX20_SWESARR_TB_GRMST1_27401_20008_000_200212_XKKa225H_v01.csv\n",
      "ACCESS_SWESARR - 2024-10-07 21:11:45,121 - INFO - Downloaded: SNEX20_SWESARR_TB_GRMCT2_13902_20008_000_200212_XKKa225H_v01.csv\n",
      "ACCESS_SWESARR - 2024-10-07 21:11:47,484 - INFO - Downloaded: SNEX20_SWESARR_TB_GRMNT1_09601_20008_000_200212_XKKa225H_v01.csv\n",
      "ACCESS_SWESARR - 2024-10-07 21:11:49,596 - INFO - Downloaded: SNEX20_SWESARR_TB_GRMCT2_13901_20008_000_200212_XKKa225H_v01.csv\n",
      "ACCESS_SWESARR - 2024-10-07 21:11:51,623 - INFO - Downloaded: SNEX20_SWESARR_TB_GRMCT2_13801_20009_000_200212_XKKa225H_v01.csv\n"
     ]
    }
   ],
   "source": [
    "radiom.bulk_download_radiometer(destination_folder=destination_on_computer, day=\"all\")"
   ]
  },
  {
   "cell_type": "markdown",
   "id": "24fbecc8",
   "metadata": {},
   "source": [
    "In this example we will use the same instance of the radiometer class we instantiated earlier to download to the entire data set for 2020/02/11"
   ]
  },
  {
   "cell_type": "code",
   "execution_count": 8,
   "id": "a7077a29",
   "metadata": {},
   "outputs": [],
   "source": [
    "# radiom.bulk_download_radiometer(destination_folder=destination_on_computer, day=\"11\")"
   ]
  }
 ],
 "metadata": {
  "kernelspec": {
   "display_name": "Python 3 (ipykernel)",
   "language": "python",
   "name": "python3"
  },
  "language_info": {
   "codemirror_mode": {
    "name": "ipython",
    "version": 3
   },
   "file_extension": ".py",
   "mimetype": "text/x-python",
   "name": "python",
   "nbconvert_exporter": "python",
   "pygments_lexer": "ipython3",
   "version": "3.12.3"
  }
 },
 "nbformat": 4,
 "nbformat_minor": 5
}
