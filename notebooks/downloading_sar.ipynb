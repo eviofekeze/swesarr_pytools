{
 "cells": [
  {
   "cell_type": "markdown",
   "id": "8a6ce4e4f5a01a81",
   "metadata": {},
   "source": [
    "## **Downloading SAR Data**\n",
    "\n",
    "### **Retrieving Metadata**\n",
    "\n",
    "\n",
    "In this notebook, we will demonstrate the core functionality of the `AccessSAR` class. This class provides essential utilities for viewing SWESARR metadata and downloading SWESARR files."
   ]
  },
  {
   "cell_type": "code",
   "execution_count": 4,
   "id": "76ef3e136adcbb49",
   "metadata": {
    "jupyter": {
     "is_executing": true
    }
   },
   "outputs": [],
   "source": [
    "import sys\n",
    "sys.path.append(\"../\")\n",
    "\n",
    "# import the Access Swesarr Class from the access_swesarr submodule\n",
    "from swesarr_pytools.access_swesarr import AccessSAR\n",
    "import pprint\n",
    "\n",
    "# Optional import for data\n",
    "from datetime import date"
   ]
  },
  {
   "cell_type": "markdown",
   "id": "49019b57",
   "metadata": {},
   "source": [
    "The following cells demonstrate how to view metadata and search for flights within a specific time range.\n",
    "\n",
    "`data_meta`: Provides key-value pairs that map flight paths to their corresponding dates. \\\n",
    "`flight_name` : Gives a complete list of flight paths \\\n",
    "`flight_dates`: Give a complete list of flight dates"
   ]
  },
  {
   "cell_type": "code",
   "execution_count": 5,
   "id": "7ddc67d0b109b405",
   "metadata": {
    "jupyter": {
     "is_executing": true
    }
   },
   "outputs": [],
   "source": [
    "swesarr_object = AccessSAR() # instantiates an object of the Access Swesarr Class"
   ]
  },
  {
   "cell_type": "code",
   "execution_count": 9,
   "id": "13d78d84",
   "metadata": {},
   "outputs": [
    {
     "name": "stdout",
     "output_type": "stream",
     "text": [
      "(\"Flight meta key value pair: {'GRMCT1_13801_19005_010_191106_225_XX_01/': \"\n",
      " \"datetime.date(2019, 11, 6), 'GRMCT1_13802_19004_013_191105_225_XX_01/': \"\n",
      " \"datetime.date(2019, 11, 5), 'GRMCT1_13802_19005_016_191106_225_XX_01/': \"\n",
      " \"datetime.date(2019, 11, 6), 'GRMCT1_13803_19004_019_191105_225_XX_01/': \"\n",
      " \"datetime.date(2019, 11, 5), 'GRMCT2_13802_20006_012_200210_225_XX_01/': \"\n",
      " \"datetime.date(2020, 2, 10), 'GRMCT2_13802_20008_011_200212_225_XX_01/': \"\n",
      " \"datetime.date(2020, 2, 12), 'GRMCT2_13802_20009_004_200212_225_XX_01/': \"\n",
      " \"datetime.date(2020, 2, 12), 'GRMCT2_13804_20007_022_200211_225_XX_01/': \"\n",
      " \"datetime.date(2020, 2, 11), 'GRMCT2_13804_20008_015_200212_225_XX_01/': \"\n",
      " \"datetime.date(2020, 2, 12), 'GRMCT2_13804_20009_008_200212_225_XX_01/': \"\n",
      " \"datetime.date(2020, 2, 12), 'GRMCT2_13806_20007_026_200211_225_XX_01/': \"\n",
      " \"datetime.date(2020, 2, 11), 'GRMCT2_13806_20008_019_200212_225_XX_01/': \"\n",
      " \"datetime.date(2020, 2, 12), 'GRMCT2_31601_20006_011_200210_225_XX_01/': \"\n",
      " \"datetime.date(2020, 2, 10), 'GRMCT2_31801_20007_016_200211_225_XX_01/': \"\n",
      " \"datetime.date(2020, 2, 11), 'GRMCT2_31801_20008_009_200212_225_XX_01/': \"\n",
      " \"datetime.date(2020, 2, 12), 'GRMCT2_31803_20007_020_200211_225_XX_01/': \"\n",
      " \"datetime.date(2020, 2, 11), 'GRMCT2_31803_20008_013_200212_225_XX_01/': \"\n",
      " \"datetime.date(2020, 2, 12), 'GRMCT2_31803_20009_006_200212_225_XX_01/': \"\n",
      " \"datetime.date(2020, 2, 12), 'GRMCT2_31805_20008_017_200212_225_XX_01/': \"\n",
      " \"datetime.date(2020, 2, 12), 'GRMCT2_31901_20009_002_200212_225_XX_01/': \"\n",
      " \"datetime.date(2020, 2, 12), 'GRMCT2_31905_20007_024_200211_225_XX_01/': \"\n",
      " \"datetime.date(2020, 2, 11), 'GRMNT1_09302_20006_009_200210_225_XX_01/': \"\n",
      " \"datetime.date(2020, 2, 10), 'GRMNT1_09401_19005_006_191106_225_XX_01/': \"\n",
      " \"datetime.date(2019, 11, 6), 'GRMNT1_09401_20006_005_200210_225_XX_01/': \"\n",
      " \"datetime.date(2020, 2, 10), 'GRMNT1_09401_20007_007_200211_225_XX_01/': \"\n",
      " \"datetime.date(2020, 2, 11), 'GRMNT1_09402_19004_009_191105_225_XX_01/': \"\n",
      " \"datetime.date(2019, 11, 5), 'GRMNT1_09402_19005_012_191106_225_XX_01/': \"\n",
      " \"datetime.date(2019, 11, 6), 'GRMNT1_09402_20007_010_200211_225_XX_01/': \"\n",
      " \"datetime.date(2020, 2, 11), 'GRMNT1_09402_20008_027_200212_225_XX_01/': \"\n",
      " \"datetime.date(2020, 2, 12), 'GRMNT1_09403_19004_015_191105_225_XX_01/': \"\n",
      " \"datetime.date(2019, 11, 5), 'GRMNT1_09403_19005_018_191106_225_XX_01/': \"\n",
      " \"datetime.date(2019, 11, 6), 'GRMNT1_09403_20007_014_200211_225_XX_01/': \"\n",
      " \"datetime.date(2020, 2, 11), 'GRMNT1_09403_20008_031_200212_225_XX_01/': \"\n",
      " \"datetime.date(2020, 2, 12), 'GRMNT1_09501_20008_023_200212_225_XX_01/': \"\n",
      " \"datetime.date(2020, 2, 12), 'GRMNT1_09502_20007_010_200211_225_XX_01/': \"\n",
      " \"datetime.date(2020, 2, 11), 'GRMST1_27302_20006_007_200210_225_XX_01/': \"\n",
      " \"datetime.date(2020, 2, 10), 'GRMST1_27401_19003_007_191104_225_XX_01/': \"\n",
      " \"datetime.date(2019, 11, 4), 'GRMST1_27401_19004_005_191105_225_XX_01/': \"\n",
      " \"datetime.date(2019, 11, 5), 'GRMST1_27401_19005_008_191106_225_XX_01/': \"\n",
      " \"datetime.date(2019, 11, 6), 'GRMST1_27401_20007_005_200211_225_XX_01/': \"\n",
      " \"datetime.date(2020, 2, 11), 'GRMST1_27401_20008_021_200212_225_XX_01/': \"\n",
      " \"datetime.date(2020, 2, 12), 'GRMST1_27402_19004_011_191105_225_XX_01/': \"\n",
      " \"datetime.date(2019, 11, 5), 'GRMST1_27402_19005_014_191106_225_XX_01/': \"\n",
      " \"datetime.date(2019, 11, 6), 'GRMST1_27402_20008_025_200212_225_XX_01/': \"\n",
      " \"datetime.date(2020, 2, 12), 'GRMST1_27403_19004_017_191105_225_XX_01/': \"\n",
      " \"datetime.date(2019, 11, 5), 'GRMST1_27403_20007_012_200211_225_XX_01/': \"\n",
      " \"datetime.date(2020, 2, 11), 'GRMST1_27403_20008_029_200212_225_XX_01/': \"\n",
      " \"datetime.date(2020, 2, 12), 'GRMST1_27501_20006_003_200210_225_XX_01/': \"\n",
      " \"datetime.date(2020, 2, 10), 'GRMST1_27502_20007_009_200211_225_XX_01/': \"\n",
      " 'datetime.date(2020, 2, 11)}')\n"
     ]
    }
   ],
   "source": [
    "swesarr_metadata = swesarr_object.data_meta # The meta data can be retrieve by simply calling the data_meta\n",
    "pprint.pprint(f\"Flight meta key value pair: {swesarr_metadata}\")"
   ]
  },
  {
   "cell_type": "code",
   "execution_count": 10,
   "id": "816466ef",
   "metadata": {},
   "outputs": [
    {
     "name": "stdout",
     "output_type": "stream",
     "text": [
      "(\"Flight Paths: ['GRMCT1_13801_19005_010_191106_225_XX_01/', \"\n",
      " \"'GRMCT1_13802_19004_013_191105_225_XX_01/', \"\n",
      " \"'GRMCT1_13802_19005_016_191106_225_XX_01/', \"\n",
      " \"'GRMCT1_13803_19004_019_191105_225_XX_01/', \"\n",
      " \"'GRMCT2_13802_20006_012_200210_225_XX_01/', \"\n",
      " \"'GRMCT2_13802_20008_011_200212_225_XX_01/', \"\n",
      " \"'GRMCT2_13802_20009_004_200212_225_XX_01/', \"\n",
      " \"'GRMCT2_13804_20007_022_200211_225_XX_01/', \"\n",
      " \"'GRMCT2_13804_20008_015_200212_225_XX_01/', \"\n",
      " \"'GRMCT2_13804_20009_008_200212_225_XX_01/', \"\n",
      " \"'GRMCT2_13806_20007_026_200211_225_XX_01/', \"\n",
      " \"'GRMCT2_13806_20008_019_200212_225_XX_01/', \"\n",
      " \"'GRMCT2_31601_20006_011_200210_225_XX_01/', \"\n",
      " \"'GRMCT2_31801_20007_016_200211_225_XX_01/', \"\n",
      " \"'GRMCT2_31801_20008_009_200212_225_XX_01/', \"\n",
      " \"'GRMCT2_31803_20007_020_200211_225_XX_01/', \"\n",
      " \"'GRMCT2_31803_20008_013_200212_225_XX_01/', \"\n",
      " \"'GRMCT2_31803_20009_006_200212_225_XX_01/', \"\n",
      " \"'GRMCT2_31805_20008_017_200212_225_XX_01/', \"\n",
      " \"'GRMCT2_31901_20009_002_200212_225_XX_01/', \"\n",
      " \"'GRMCT2_31905_20007_024_200211_225_XX_01/', \"\n",
      " \"'GRMNT1_09302_20006_009_200210_225_XX_01/', \"\n",
      " \"'GRMNT1_09401_19005_006_191106_225_XX_01/', \"\n",
      " \"'GRMNT1_09401_20006_005_200210_225_XX_01/', \"\n",
      " \"'GRMNT1_09401_20007_007_200211_225_XX_01/', \"\n",
      " \"'GRMNT1_09402_19004_009_191105_225_XX_01/', \"\n",
      " \"'GRMNT1_09402_19005_012_191106_225_XX_01/', \"\n",
      " \"'GRMNT1_09402_20007_010_200211_225_XX_01/', \"\n",
      " \"'GRMNT1_09402_20008_027_200212_225_XX_01/', \"\n",
      " \"'GRMNT1_09403_19004_015_191105_225_XX_01/', \"\n",
      " \"'GRMNT1_09403_19005_018_191106_225_XX_01/', \"\n",
      " \"'GRMNT1_09403_20007_014_200211_225_XX_01/', \"\n",
      " \"'GRMNT1_09403_20008_031_200212_225_XX_01/', \"\n",
      " \"'GRMNT1_09501_20008_023_200212_225_XX_01/', \"\n",
      " \"'GRMNT1_09502_20007_010_200211_225_XX_01/', \"\n",
      " \"'GRMST1_27302_20006_007_200210_225_XX_01/', \"\n",
      " \"'GRMST1_27401_19003_007_191104_225_XX_01/', \"\n",
      " \"'GRMST1_27401_19004_005_191105_225_XX_01/', \"\n",
      " \"'GRMST1_27401_19005_008_191106_225_XX_01/', \"\n",
      " \"'GRMST1_27401_20007_005_200211_225_XX_01/', \"\n",
      " \"'GRMST1_27401_20008_021_200212_225_XX_01/', \"\n",
      " \"'GRMST1_27402_19004_011_191105_225_XX_01/', \"\n",
      " \"'GRMST1_27402_19005_014_191106_225_XX_01/', \"\n",
      " \"'GRMST1_27402_20008_025_200212_225_XX_01/', \"\n",
      " \"'GRMST1_27403_19004_017_191105_225_XX_01/', \"\n",
      " \"'GRMST1_27403_20007_012_200211_225_XX_01/', \"\n",
      " \"'GRMST1_27403_20008_029_200212_225_XX_01/', \"\n",
      " \"'GRMST1_27501_20006_003_200210_225_XX_01/', \"\n",
      " \"'GRMST1_27502_20007_009_200211_225_XX_01/']\")\n"
     ]
    }
   ],
   "source": [
    "flight_paths = swesarr_object.flight_names\n",
    "pprint.pprint(f\"Flight Paths: {flight_paths}\")"
   ]
  },
  {
   "cell_type": "code",
   "execution_count": 11,
   "id": "e7c6511d",
   "metadata": {},
   "outputs": [
    {
     "name": "stdout",
     "output_type": "stream",
     "text": [
      "('Flight Dates: [datetime.date(2019, 11, 6), datetime.date(2019, 11, 5), '\n",
      " 'datetime.date(2019, 11, 6), datetime.date(2019, 11, 5), datetime.date(2020, '\n",
      " '2, 10), datetime.date(2020, 2, 12), datetime.date(2020, 2, 12), '\n",
      " 'datetime.date(2020, 2, 11), datetime.date(2020, 2, 12), datetime.date(2020, '\n",
      " '2, 12), datetime.date(2020, 2, 11), datetime.date(2020, 2, 12), '\n",
      " 'datetime.date(2020, 2, 10), datetime.date(2020, 2, 11), datetime.date(2020, '\n",
      " '2, 12), datetime.date(2020, 2, 11), datetime.date(2020, 2, 12), '\n",
      " 'datetime.date(2020, 2, 12), datetime.date(2020, 2, 12), datetime.date(2020, '\n",
      " '2, 12), datetime.date(2020, 2, 11), datetime.date(2020, 2, 10), '\n",
      " 'datetime.date(2019, 11, 6), datetime.date(2020, 2, 10), datetime.date(2020, '\n",
      " '2, 11), datetime.date(2019, 11, 5), datetime.date(2019, 11, 6), '\n",
      " 'datetime.date(2020, 2, 11), datetime.date(2020, 2, 12), datetime.date(2019, '\n",
      " '11, 5), datetime.date(2019, 11, 6), datetime.date(2020, 2, 11), '\n",
      " 'datetime.date(2020, 2, 12), datetime.date(2020, 2, 12), datetime.date(2020, '\n",
      " '2, 11), datetime.date(2020, 2, 10), datetime.date(2019, 11, 4), '\n",
      " 'datetime.date(2019, 11, 5), datetime.date(2019, 11, 6), datetime.date(2020, '\n",
      " '2, 11), datetime.date(2020, 2, 12), datetime.date(2019, 11, 5), '\n",
      " 'datetime.date(2019, 11, 6), datetime.date(2020, 2, 12), datetime.date(2019, '\n",
      " '11, 5), datetime.date(2020, 2, 11), datetime.date(2020, 2, 12), '\n",
      " 'datetime.date(2020, 2, 10), datetime.date(2020, 2, 11)]')\n"
     ]
    }
   ],
   "source": [
    "#Retrieve flight date\n",
    "flight_dates = swesarr_object.flight_dates\n",
    "pprint.pprint(f\"Flight Dates: {flight_dates}\")"
   ]
  },
  {
   "cell_type": "markdown",
   "id": "c6555fe6126d1808",
   "metadata": {
    "jupyter": {
     "is_executing": true
    }
   },
   "source": [
    "**Searching for dates within a range**\n",
    "\n",
    "To search within a specific date range, use the available_date_within_range method by specifying a start and end date. You can enter the dates as string using the standard American date format or use the datetime library's date format. The method returns a list of all flight paths available within the specified range.\n",
    "\n",
    "Example, specifying date python datetime object"
   ]
  },
  {
   "cell_type": "code",
   "execution_count": 6,
   "id": "58c700db466cc669",
   "metadata": {
    "jupyter": {
     "is_executing": true
    }
   },
   "outputs": [
    {
     "name": "stdout",
     "output_type": "stream",
     "text": [
      "('Available flight: [datetime.date(2019, 11, 6), datetime.date(2019, 11, 5), '\n",
      " 'datetime.date(2019, 11, 6), datetime.date(2019, 11, 5), datetime.date(2019, '\n",
      " '11, 6), datetime.date(2019, 11, 5), datetime.date(2019, 11, 6), '\n",
      " 'datetime.date(2019, 11, 5), datetime.date(2019, 11, 6), datetime.date(2019, '\n",
      " '11, 5), datetime.date(2019, 11, 6), datetime.date(2019, 11, 5), '\n",
      " 'datetime.date(2019, 11, 6), datetime.date(2019, 11, 5)]')\n"
     ]
    }
   ],
   "source": [
    "available_dates = swesarr_object.available_date_within_range(start_date=date(2019, 11, 5),\n",
    "                                               end_date=date(2019, 11, 6))\n",
    "pprint.pprint(f\"Available flight: {available_dates}\")"
   ]
  },
  {
   "cell_type": "markdown",
   "id": "a5165d92",
   "metadata": {},
   "source": [
    "Example, specifying date as string"
   ]
  },
  {
   "cell_type": "code",
   "execution_count": 8,
   "id": "db07a764",
   "metadata": {},
   "outputs": [
    {
     "name": "stdout",
     "output_type": "stream",
     "text": [
      "('Available flight: [datetime.date(2019, 11, 6), datetime.date(2019, 11, 5), '\n",
      " 'datetime.date(2019, 11, 6), datetime.date(2019, 11, 5), datetime.date(2019, '\n",
      " '11, 6), datetime.date(2019, 11, 5), datetime.date(2019, 11, 6), '\n",
      " 'datetime.date(2019, 11, 5), datetime.date(2019, 11, 6), datetime.date(2019, '\n",
      " '11, 5), datetime.date(2019, 11, 6), datetime.date(2019, 11, 5), '\n",
      " 'datetime.date(2019, 11, 6), datetime.date(2019, 11, 5)]')\n"
     ]
    }
   ],
   "source": [
    "available_dates_string = swesarr_object.available_date_within_range(start_date=\"11/5/19\",\n",
    "                                               end_date=\"11/6/19\")\n",
    "pprint.pprint(f\"Available flight: {available_dates_string}\")"
   ]
  },
  {
   "cell_type": "markdown",
   "id": "97119074f420534c",
   "metadata": {
    "jupyter": {
     "is_executing": true
    }
   },
   "source": [
    "### **Data Download**\n",
    "\n",
    "The `AccessSwesarr` class also provides functionality to download SWESARR data, either for all frequency bands of a specified flight path or for a single frequency from a selected flight line. The `download_data` function allows users to specify a flight path and either retrieve all associated frequency bands in one go or download data for a specific frequency. This flexibility makes it convenient for users to access the SWESARR data they need based on their particular analytics requirements.\n",
    "You will need to provide a destination folder in addition to the fight path of choice. See example help below.\n",
    "\n",
    "In the following example, we will download the `GRMCT1_13801_19005_010_191106_225_XX_01` flight path (To see available flight paths see the access meta function above). \n",
    "We also specify a folder where we want to store the data. Optional arguments include dem options, the download associated dem if send to true, additionally the band option is used to specify a spefic band, See function help for additional information\n"
   ]
  },
  {
   "cell_type": "code",
   "execution_count": 13,
   "id": "5ada43e5",
   "metadata": {},
   "outputs": [
    {
     "name": "stdout",
     "output_type": "stream",
     "text": [
      "Help on method download_data in module access_swesarr:\n",
      "\n",
      "download_data(flight_path: str, folder_name: str, band: str = 'all', dem: bool = False) -> None method of access_swesarr.AccessSAR instance\n",
      "    Downloads data for a specified flight path.\n",
      "\n",
      "    This method downloads the associated data into the specified folder. It also\n",
      "    allows for filtering by band and includes an option to download DEM (Digital\n",
      "    Elevation Model) data.\n",
      "\n",
      "    :param flight_path: str\n",
      "        The name of the flight path to be downloaded\n",
      "    :param folder_name: str\n",
      "        The name of the folder where the downloaded data will be stored\n",
      "    :param band: str, optional\n",
      "        Specifies the band to download (e.g., \"X\", \"KuLo\", \"KuHi\"). Defaults to \"all\",\n",
      "        which downloads all available bands\n",
      "    :param dem: bool, optional\n",
      "        If True, the Digital Elevation Model (DEM) data is downloaded along with the\n",
      "        band data. Defaults to False\n",
      "    :return: None\n",
      "\n"
     ]
    }
   ],
   "source": [
    "help(swesarr_object.download_data)"
   ]
  },
  {
   "cell_type": "code",
   "execution_count": 14,
   "id": "3cefa486",
   "metadata": {},
   "outputs": [
    {
     "name": "stderr",
     "output_type": "stream",
     "text": [
      "ACCESS_SWESARR - 2024-10-07 19:37:29,524 - INFO - Downloaded: https://glihtdata.gsfc.nasa.gov/files/radar/SWESARR/prerelease/GRMCT1_13801_19005_010_191106_225_XX_01/GRMCT1_13801_19005_010_191106_09225VH_XX_01.tif\n",
      "ACCESS_SWESARR - 2024-10-07 19:37:56,273 - INFO - Downloaded: https://glihtdata.gsfc.nasa.gov/files/radar/SWESARR/prerelease/GRMCT1_13801_19005_010_191106_225_XX_01/GRMCT1_13801_19005_010_191106_09225VV_XX_01.tif\n",
      "ACCESS_SWESARR - 2024-10-07 19:38:18,782 - INFO - Downloaded: https://glihtdata.gsfc.nasa.gov/files/radar/SWESARR/prerelease/GRMCT1_13801_19005_010_191106_225_XX_01/GRMCT1_13801_19005_010_191106_13225VH_XX_01.tif\n",
      "ACCESS_SWESARR - 2024-10-07 19:38:40,089 - INFO - Downloaded: https://glihtdata.gsfc.nasa.gov/files/radar/SWESARR/prerelease/GRMCT1_13801_19005_010_191106_225_XX_01/GRMCT1_13801_19005_010_191106_13225VV_XX_01.tif\n",
      "ACCESS_SWESARR - 2024-10-07 19:39:07,938 - INFO - Downloaded: https://glihtdata.gsfc.nasa.gov/files/radar/SWESARR/prerelease/GRMCT1_13801_19005_010_191106_225_XX_01/GRMCT1_13801_19005_010_191106_17225VH_XX_01.tif\n",
      "ACCESS_SWESARR - 2024-10-07 19:39:30,818 - INFO - Downloaded: https://glihtdata.gsfc.nasa.gov/files/radar/SWESARR/prerelease/GRMCT1_13801_19005_010_191106_225_XX_01/GRMCT1_13801_19005_010_191106_17225VV_XX_01.tif\n"
     ]
    }
   ],
   "source": [
    "swesarr_object.download_data(flight_path=\"GRMCT1_13801_19005_010_191106_225_XX_01\",\n",
    "                             folder_name=\"./swesarr_pytool/resources/swesarr_data/\",\n",
    "                             dem=False,\n",
    "                             band=\"all\")"
   ]
  },
  {
   "cell_type": "markdown",
   "id": "1a96d6a4",
   "metadata": {},
   "source": [
    "Additionally the `download_all_data` function can be called to download all flight path. See help below"
   ]
  },
  {
   "cell_type": "code",
   "execution_count": 5,
   "id": "8e806e4f",
   "metadata": {},
   "outputs": [
    {
     "name": "stdout",
     "output_type": "stream",
     "text": [
      "Help on method download_data in module swesarr_pytools.access_swesarr:\n",
      "\n",
      "download_data(flight_path: str, folder_name: str, band: str = 'all', dem: bool = False) -> None method of swesarr_pytools.access_swesarr.AccessSwesarr instance\n",
      "    Downloads data for a specified flight path.\n",
      "\n",
      "    This method downloads the associated data into the specified folder. It also\n",
      "    allows for filtering by band and includes an option to download DEM (Digital\n",
      "    Elevation Model) data.\n",
      "\n",
      "    :param flight_path: str\n",
      "        The name of the flight path to be downloaded\n",
      "    :param folder_name: str\n",
      "        The name of the folder where the downloaded data will be stored\n",
      "    :param band: str, optional\n",
      "        Specifies the band to download (e.g., \"X\", \"KuLo\", \"KuHi\"). Defaults to \"all\",\n",
      "        which downloads all available bands\n",
      "    :param dem: bool, optional\n",
      "        If True, the Digital Elevation Model (DEM) data is downloaded along with the\n",
      "        band data. Defaults to False\n",
      "    :return: None\n",
      "\n"
     ]
    }
   ],
   "source": [
    "help(swesarr_object.download_data)"
   ]
  },
  {
   "cell_type": "code",
   "execution_count": 6,
   "id": "6920bf69",
   "metadata": {},
   "outputs": [
    {
     "name": "stdout",
     "output_type": "stream",
     "text": [
      "Help on method download_all_data in module swesarr_pytools.access_swesarr:\n",
      "\n",
      "download_all_data(folder_name: str, band: str = 'all', dem: bool = False) -> None method of swesarr_pytools.access_swesarr.AccessSwesarr instance\n",
      "    Downloads data for all flights.\n",
      "\n",
      "    This method iterates over all flight paths generated in `self.flight_names` list\n",
      "    and downloads the associated data into the specified folder. It also\n",
      "    allows for filtering by band and includes an option to download DEM (Digital\n",
      "    Elevation Model) data.\n",
      "\n",
      "    :param folder_name: str\n",
      "        The name of the folder where the downloaded data will be stored\n",
      "    :param band: str, optional\n",
      "        Specifies the band to download (e.g., \"X\", \"KuLo\", \"KuHi\"). Defaults to \"all\",\n",
      "        which downloads all available bands\n",
      "    :param dem: bool, optional\n",
      "        If True, the Digital Elevation Model (DEM) data is downloaded along with the\n",
      "        band data. Defaults to False\n",
      "\n",
      "    :return: None\n",
      "\n"
     ]
    }
   ],
   "source": [
    "help(swesarr_object.download_all_data)"
   ]
  }
 ],
 "metadata": {
  "kernelspec": {
   "display_name": "Python 3 (ipykernel)",
   "language": "python",
   "name": "python3"
  },
  "language_info": {
   "codemirror_mode": {
    "name": "ipython",
    "version": 3
   },
   "file_extension": ".py",
   "mimetype": "text/x-python",
   "name": "python",
   "nbconvert_exporter": "python",
   "pygments_lexer": "ipython3",
   "version": "3.12.3"
  }
 },
 "nbformat": 4,
 "nbformat_minor": 5
}
